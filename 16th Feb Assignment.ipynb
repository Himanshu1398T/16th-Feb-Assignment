{
 "cells": [
  {
   "cell_type": "markdown",
   "id": "ed77c71b",
   "metadata": {},
   "source": [
    "### Q1. What is a database? Differentiate between SQL and NoSQL databases."
   ]
  },
  {
   "cell_type": "markdown",
   "id": "0181e151",
   "metadata": {},
   "source": [
    "#### Ans:\n",
    "A database is a structured collection of data that is stored and organized in a way that allows for efficient access, retrieval, and management of data. Databases are used to store and manage data in a wide range of applications, from simple personal task lists to complex enterprise-level systems.\n",
    "***\n",
    "The main differences between SQL and NoSQL databases are:\n",
    "\n",
    "1. Data model: SQL databases use a relational data model, while NoSQL databases use non-relational data models.\n",
    "\n",
    "2. Scalability: NoSQL databases are designed to be horizontally scalable, meaning that they can handle large volumes of data and traffic across multiple servers. SQL databases, on the other hand, are vertically scalable, meaning that they can handle increased traffic and data by adding more resources to a single server.\n",
    "\n",
    "3. Consistency: SQL databases prioritize data consistency, ensuring that data is always accurate and up-to-date. NoSQL databases prioritize availability and partition tolerance, ensuring that data is always available even in the face of network partitions and server failures.\n",
    "\n",
    "4. Schema: SQL databases use a strict schema that defines the structure of the data and its relationships. NoSQL databases, on the other hand, are schema-less, allowing for greater flexibility in the data model.\n"
   ]
  },
  {
   "cell_type": "markdown",
   "id": "715ad678",
   "metadata": {},
   "source": [
    "### Q2. What is DDL? Explain why CREATE, DROP, ALTER, and TRUNCATE are used with an example."
   ]
  },
  {
   "cell_type": "markdown",
   "id": "0fe1c2e9",
   "metadata": {},
   "source": [
    "#### Ans:\n",
    "DDL stands for Data Definition Language, which is a subset of SQL used to define and modify the structure of database objects such as tables, views, and indexes. The four primary commands used in DDL are CREATE, DROP, ALTER, and TRUNCATE\n",
    "***\n",
    "CREATE: The CREATE command is used to create new database objects such as tables, views, and indexes.\n",
    "\n",
    "Example: To creates a new table called \"users\" with columns for name, email, and password:\n",
    "\n",
    "CREATE TABLE users (name VARCHAR(50),email VARCHAR(100),password VARCHAR(20));\n",
    "***\n",
    "DROP: The DROP command is used to remove existing database objects such as tables, views, and indexes.\n",
    "\n",
    "Example: To drops the \"users\" table:\n",
    "\n",
    "DROP TABLE users;\n",
    "***\n",
    "ALTER: The ALTER command is used to modify the structure of existing database objects such as tables, views, and indexes.\n",
    "\n",
    "Example: To adds a new column called \"age\" to the \"users\" table:\n",
    "\n",
    "ALTER TABLE users\n",
    "ADD age INT;\n",
    "***\n",
    "TRUNCATE: The TRUNCATE command is used to remove all data from a table while preserving the structure of the table.\n",
    "\n",
    "Example: To removes all data from the \"users\" table:\n",
    "\n",
    "TRUNCATE TABLE users;"
   ]
  },
  {
   "cell_type": "markdown",
   "id": "702003d8",
   "metadata": {},
   "source": [
    "### Q3. What is DML? Explain INSERT, UPDATE, and DELETE with an example."
   ]
  },
  {
   "cell_type": "markdown",
   "id": "50459f63",
   "metadata": {},
   "source": [
    "#### Ans:\n",
    "DML stands for Data Manipulation Language, which is a subset of SQL used to manipulate the data in the database. The three primary commands used in DML are INSERT, UPDATE, and DELETE\n",
    "***\n",
    "INSERT: The INSERT command is used to add new data to a table. \n",
    "\n",
    "Example: To insert a new record into the \"users\" table\n",
    "\n",
    "INSERT INTO users (name, email, password, age)\n",
    "VALUES ('H', 'H@gmail.com', 'password123', 24);\n",
    "***\n",
    "UPDATE: The UPDATE command is used to modify existing data in a table.\n",
    "\n",
    "Example: To update the email address for the user with ID 1 in the \"users\" table\n",
    "\n",
    "UPDATE users SET email = 'newemail@example.com' WHERE id = 1;\n",
    "***\n",
    "DELETE: The DELETE command is used to remove data from a table.\n",
    "\n",
    "Example: To delete the user with ID 1 from the \"users\" table\n",
    "\n",
    "DELETE FROM users WHERE id = 1;"
   ]
  },
  {
   "cell_type": "markdown",
   "id": "7e04823c",
   "metadata": {},
   "source": [
    "### Q4. What is DQL? Explain SELECT with an example."
   ]
  },
  {
   "cell_type": "markdown",
   "id": "8e2bc28d",
   "metadata": {},
   "source": [
    "#### Ans:\n",
    "DQL stands for Data Query Language, which is a subset of SQL used to retrieve data from a database. The primary command used in DQL is SELECT.\n",
    "***\n",
    "The SELECT command is used to query a database and retrieve data from one or more tables.\n",
    "\n",
    "Example: To retrieve all of the data from the \"users\" table\n",
    "\n",
    "SELECT * FROM users;  (For all of the columns and row from the users table)\n",
    "\n",
    "SELECT name, email FROM users; (For only name and emial columns from the users table)\n",
    "\n",
    "We can also add conditions:\n",
    "\n",
    "SELECT * FROM users WHERE age >= 18; (Only data where age is more than 17 will be retrieved)\n"
   ]
  },
  {
   "cell_type": "markdown",
   "id": "1a0e2758",
   "metadata": {},
   "source": [
    "### Q5. Explain Primary Key and Foreign Key."
   ]
  },
  {
   "cell_type": "markdown",
   "id": "046d897f",
   "metadata": {},
   "source": [
    "#### Ans:\n",
    "A Primary Key is a unique identifier for a record in a database table. It is a column or a set of columns that uniquely identifies each row in the table. The primary key is used to enforce data integrity and ensure that each row in the table is uniquely identified. A primary key cannot contain null values, and it must be unique for each record in the table.\n",
    "***\n",
    "A Foreign Key is a field in a table that is used to establish a link or relationship between two tables. It is a column or a set of columns in one table that refers to the primary key of another table. The foreign key ensures that the data in the table is consistent and can be used to join data between tables. The foreign key can have null values, and it must be a valid value in the referenced table."
   ]
  },
  {
   "cell_type": "markdown",
   "id": "ac4f9347",
   "metadata": {},
   "source": [
    "### Q6. Write a python code to connect MySQL to python. Explain the cursor() and execute() method."
   ]
  },
  {
   "cell_type": "markdown",
   "id": "541bac89",
   "metadata": {},
   "source": [
    "#### Ans:\n",
    "import mysql.connector\n",
    "\n",
    "mydb = mysql.connector.connect(\n",
    "  host=\"localhost\",\n",
    "  user=\"username\",\n",
    "  password=\"password\"\n",
    ")\n",
    "\n",
    "cursor = mydb.cursor()\n",
    "cursor.execute(\"Enter query\")\n",
    "result = cursor.fetchall()\n",
    "\n",
    "print(result)\n",
    "\n",
    "mydb.close()\n",
    "***\n",
    "The cursor() method creates a cursor object that allows us to execute SQL queries and fetch the results. It is used to traverse the records in the result set returned by a query.\n",
    "The execute() method is used to execute a SQL query on the database. It takes the SQL query as an argument and returns the number of rows affected by the query. It is often used to insert, update, or delete data from a table."
   ]
  },
  {
   "cell_type": "markdown",
   "id": "557159d8",
   "metadata": {},
   "source": [
    "### Q7. Give the order of execution of SQL clauses in an SQL query."
   ]
  },
  {
   "cell_type": "markdown",
   "id": "5ce9dfbd",
   "metadata": {},
   "source": [
    "#### Ans:\n",
    "1. FROM - specifies the table(s) or view(s) from which data is selected.\n",
    "2. WHERE - filters rows based on a specified condition.\n",
    "3. GROUP BY - groups the rows that share a common value in one or more columns into summary rows, like \"total\", \"average\", etc.\n",
    "4. HAVING - filters the summary rows created by the GROUP BY clause.\n",
    "5. SELECT - selects the columns to be included in the result set.\n",
    "6. ORDER BY - sorts the result set based on one or more columns.\n",
    "7. LIMIT - limits the number of rows returned by the query and allows you to page through the results."
   ]
  }
 ],
 "metadata": {
  "kernelspec": {
   "display_name": "Python 3 (ipykernel)",
   "language": "python",
   "name": "python3"
  },
  "language_info": {
   "codemirror_mode": {
    "name": "ipython",
    "version": 3
   },
   "file_extension": ".py",
   "mimetype": "text/x-python",
   "name": "python",
   "nbconvert_exporter": "python",
   "pygments_lexer": "ipython3",
   "version": "3.9.13"
  }
 },
 "nbformat": 4,
 "nbformat_minor": 5
}
